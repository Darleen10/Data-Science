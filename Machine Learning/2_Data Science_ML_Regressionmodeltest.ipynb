{
 "cells": [
  {
   "cell_type": "markdown",
   "id": "14132ca3",
   "metadata": {},
   "source": [
    "#### Loading and using saved Models"
   ]
  },
  {
   "cell_type": "code",
   "execution_count": 2,
   "id": "bb95bd50",
   "metadata": {},
   "outputs": [],
   "source": [
    "#Import useful Libraries\n",
    "\n",
    "#to build the linear regression model\n",
    "from sklearn.linear_model import LinearRegression \n",
    "\n",
    "#to hide/ignore warnings\n",
    "import warnings\n",
    "warnings.simplefilter(action = \"ignore\")\n",
    "\n",
    "#import the library\n",
    "import joblib"
   ]
  },
  {
   "cell_type": "code",
   "execution_count": 3,
   "id": "fa7a1d1d",
   "metadata": {},
   "outputs": [],
   "source": [
    "#Load the trained Model\n",
    "\n",
    "loadedModel = joblib.load(\"mdfLinearRegressionModel.pkl\")"
   ]
  },
  {
   "cell_type": "code",
   "execution_count": 5,
   "id": "4ea1b4d5",
   "metadata": {},
   "outputs": [
    {
     "data": {
      "text/plain": [
       "array([15.225549])"
      ]
     },
     "execution_count": 5,
     "metadata": {},
     "output_type": "execute_result"
    }
   ],
   "source": [
    "predictedSales = loadedModel.predict([[22]])\n",
    "predictedSales"
   ]
  },
  {
   "cell_type": "code",
   "execution_count": null,
   "id": "bac473ee",
   "metadata": {},
   "outputs": [],
   "source": []
  }
 ],
 "metadata": {
  "kernelspec": {
   "display_name": "Python 3 (ipykernel)",
   "language": "python",
   "name": "python3"
  },
  "language_info": {
   "codemirror_mode": {
    "name": "ipython",
    "version": 3
   },
   "file_extension": ".py",
   "mimetype": "text/x-python",
   "name": "python",
   "nbconvert_exporter": "python",
   "pygments_lexer": "ipython3",
   "version": "3.12.4"
  }
 },
 "nbformat": 4,
 "nbformat_minor": 5
}
