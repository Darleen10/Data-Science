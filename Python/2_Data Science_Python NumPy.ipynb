{
 "cells": [
  {
   "cell_type": "markdown",
   "id": "0516f7d7-03f1-44f0-ab95-0e847d7d6dc6",
   "metadata": {},
   "source": [
    "## Data Science with Python"
   ]
  },
  {
   "cell_type": "markdown",
   "id": "21a37598-4db8-4e16-a880-4182241e9346",
   "metadata": {},
   "source": [
    "### NumPy"
   ]
  },
  {
   "cell_type": "code",
   "execution_count": 3,
   "id": "bb691d94-858d-4b6f-9cf0-9919ee3b907c",
   "metadata": {},
   "outputs": [
    {
     "name": "stdout",
     "output_type": "stream",
     "text": [
      "Requirement already satisfied: numpy in c:\\programdata\\anaconda3\\lib\\site-packages (1.24.3)\n"
     ]
    }
   ],
   "source": [
    "!pip install numpy"
   ]
  },
  {
   "cell_type": "code",
   "execution_count": 5,
   "id": "410c4d86-e10e-40ec-9f5a-1cfe8bfa53dc",
   "metadata": {},
   "outputs": [],
   "source": [
    "#to import numpy\n",
    "import numpy as np"
   ]
  },
  {
   "cell_type": "code",
   "execution_count": 9,
   "id": "27e07d67-2a7c-421a-b3bc-5f3e01968f0c",
   "metadata": {},
   "outputs": [
    {
     "name": "stdout",
     "output_type": "stream",
     "text": [
      "[1, 2, 3]\n"
     ]
    }
   ],
   "source": [
    "#recall a list\n",
    "zBList = [1 ,2, 3]\n",
    "print(zBList)\n"
   ]
  },
  {
   "cell_type": "markdown",
   "id": "0911f2cf-f068-47df-b05f-c268fa71006e",
   "metadata": {},
   "source": [
    "#### Creating NumPy Arrays"
   ]
  },
  {
   "cell_type": "code",
   "execution_count": 11,
   "id": "363eaf88-615d-43f1-bb41-c01e36df0884",
   "metadata": {},
   "outputs": [
    {
     "name": "stdout",
     "output_type": "stream",
     "text": [
      "[1 2 3]\n"
     ]
    }
   ],
   "source": [
    "#CREATING ARRAYS\n",
    "\n",
    "myArray = np.array([1, 2, 3])\n",
    "print(myArray)"
   ]
  },
  {
   "cell_type": "code",
   "execution_count": 23,
   "id": "ad71cd19-9749-4cb3-aa46-cd570a08c948",
   "metadata": {},
   "outputs": [
    {
     "name": "stdout",
     "output_type": "stream",
     "text": [
      "34\n",
      "\n",
      "0\n"
     ]
    }
   ],
   "source": [
    "#CREATING ARRAYS\n",
    "#Creating a zero-dimensional array (also called Scalers)\n",
    "\n",
    "zero_dim = np.array(34)                                                    #0D array: a single number or item\n",
    "print(zero_dim)\n",
    "print()\n",
    "print(zero_dim.ndim)                                                       #to check dimensions"
   ]
  },
  {
   "cell_type": "code",
   "execution_count": 25,
   "id": "403c891c-a4d4-4967-83fa-b3664a71c134",
   "metadata": {},
   "outputs": [
    {
     "name": "stdout",
     "output_type": "stream",
     "text": [
      "[1 3 5]\n",
      "\n",
      "1\n"
     ]
    }
   ],
   "source": [
    "#CREATING ARRAYS\n",
    "#Creating a one-dimensional array\n",
    "\n",
    "one_dim = np.array([1, 3, 5])                                             #1D array: a list of numbers or items\n",
    "print(one_dim)\n",
    "print()\n",
    "print(one_dim.ndim)                                                       #to check dimensions"
   ]
  },
  {
   "cell_type": "code",
   "execution_count": 27,
   "id": "9206472e-4b05-4564-ba55-7a0bb5cad433",
   "metadata": {},
   "outputs": [
    {
     "name": "stdout",
     "output_type": "stream",
     "text": [
      "[[1 3 5]\n",
      " [2 4 6]]\n",
      "\n",
      "2\n"
     ]
    }
   ],
   "source": [
    "#CREATING ARRAYS\n",
    "#Creating a two-dimensional array\n",
    "\n",
    "two_dim = np.array([[1, 3, 5], [2, 4, 6]])                                #2D array: a list of one or more 1D arrays\n",
    "print(two_dim)\n",
    "print()\n",
    "print(two_dim.ndim)                                                       #to check dimensions"
   ]
  },
  {
   "cell_type": "code",
   "execution_count": 31,
   "id": "2bfcadf7-b4de-4c7b-bf8a-0ffa78677d11",
   "metadata": {},
   "outputs": [
    {
     "name": "stdout",
     "output_type": "stream",
     "text": [
      "[[[1 3 5]\n",
      "  [2 4 6]\n",
      "  [7 8 9]]]\n",
      "\n",
      "3\n"
     ]
    }
   ],
   "source": [
    "#CREATING ARRAYS\n",
    "#Creating a three-dimensional array\n",
    "\n",
    "three_dim = np.array([[[1, 3, 5], [2, 4, 6], [7, 8, 9]]])                                  #3D array: a list of one or more 2D arrays\n",
    "print(three_dim)\n",
    "print()\n",
    "print(three_dim.ndim)   "
   ]
  },
  {
   "cell_type": "code",
   "execution_count": 43,
   "id": "c3a955a0-9a06-4266-a2dc-213052d13ada",
   "metadata": {},
   "outputs": [
    {
     "name": "stdout",
     "output_type": "stream",
     "text": [
      "[[[ 1  3  5]\n",
      "  [ 2  4  6]]\n",
      "\n",
      " [[ 7  8  9]\n",
      "  [10 11 12]]]\n",
      "\n",
      "3\n"
     ]
    }
   ],
   "source": [
    "#CREATING ARRAYS\n",
    "#Creating a three-dimensional array\n",
    "\n",
    "three_dim = np.array([[[1, 3, 5], [2, 4, 6]], [[7, 8, 9], [10, 11, 12]]])                   #3D array: a list of one or more 2D arrays\n",
    "print(three_dim)\n",
    "print()\n",
    "print(three_dim.ndim)                                                                      #to check dimensions       "
   ]
  },
  {
   "cell_type": "markdown",
   "id": "dde4c526-4129-4c5b-b499-27974fd6d221",
   "metadata": {},
   "source": [
    "#### Indexing NumPy Arrays"
   ]
  },
  {
   "cell_type": "code",
   "execution_count": 69,
   "id": "cba97480-64eb-4696-9a46-773920ee1b29",
   "metadata": {},
   "outputs": [
    {
     "data": {
      "text/plain": [
       "10"
      ]
     },
     "execution_count": 69,
     "metadata": {},
     "output_type": "execute_result"
    }
   ],
   "source": [
    "#INDEXING ARRAYS\n",
    "\n",
    "\n",
    "#create an array\n",
    "\n",
    "myArray_oneD = np.array([10, 20, 30, 40, 50])                   \n",
    "#print(myArray_oneD)\n",
    "#print(myArray_oneD.ndim)  \n",
    "\n",
    "#accessing the first element in an array \n",
    "myArray_oneD[0]                                                                                "
   ]
  },
  {
   "cell_type": "code",
   "execution_count": 75,
   "id": "e6cafef4-0d7b-440a-affa-27f9302ea1d6",
   "metadata": {},
   "outputs": [
    {
     "name": "stdout",
     "output_type": "stream",
     "text": [
      "[[ 1  2  3  4  5]\n",
      " [ 6  7  8  9 10]]\n",
      "2\n"
     ]
    },
    {
     "data": {
      "text/plain": [
       "array([1, 2, 3, 4, 5])"
      ]
     },
     "execution_count": 75,
     "metadata": {},
     "output_type": "execute_result"
    }
   ],
   "source": [
    "#INDEXING ARRAYS\n",
    "\n",
    "\n",
    "#create an array\n",
    "\n",
    "myArray_twoD = np.array([[1, 2, 3, 4, 5], [6, 7, 8, 9, 10]])                   \n",
    "#print(myArray_twoD)\n",
    "#print(myArray_twoD.ndim)  \n",
    "\n",
    "#accessing the first element in an array \n",
    "myArray_twoD[0]  "
   ]
  },
  {
   "cell_type": "code",
   "execution_count": 82,
   "id": "a492707a-709b-45ec-b6f2-b31a16bbdd92",
   "metadata": {},
   "outputs": [
    {
     "data": {
      "text/plain": [
       "9"
      ]
     },
     "execution_count": 82,
     "metadata": {},
     "output_type": "execute_result"
    }
   ],
   "source": [
    "#INDEXING ARRAYS\n",
    "\n",
    "#accessing the fourth element in the second array of the 2D array \n",
    "\n",
    "myArray_twoD[1, 3]                                                          #1:index of the 2nd array, and 3: index of the 4th element of the 2nd array"
   ]
  },
  {
   "cell_type": "markdown",
   "id": "c259e566-f276-4870-9007-61d35be14ec7",
   "metadata": {},
   "source": [
    "#### Slicing NumPy Arrays"
   ]
  },
  {
   "cell_type": "code",
   "execution_count": 104,
   "id": "ec507d8a-9da6-40e3-bff6-f13adec19fd2",
   "metadata": {},
   "outputs": [
    {
     "data": {
      "text/plain": [
       "array([10, 20, 30, 40])"
      ]
     },
     "execution_count": 104,
     "metadata": {},
     "output_type": "execute_result"
    }
   ],
   "source": [
    "#SLICING ARRAYS\n",
    "\n",
    "myArray_oneD = np.array([10, 20, 30, 40, 50])                   \n",
    "\n",
    "#accessing a range in an array \n",
    "myArray_oneD[0:4]                                      #start index: 0 is the 1st element, and, end index 4: index of the 4th element of the array"
   ]
  },
  {
   "cell_type": "code",
   "execution_count": 88,
   "id": "061403e0-54ed-4246-b0cb-bb5856b4ca48",
   "metadata": {},
   "outputs": [
    {
     "data": {
      "text/plain": [
       "array([10, 30])"
      ]
     },
     "execution_count": 88,
     "metadata": {},
     "output_type": "execute_result"
    }
   ],
   "source": [
    "#SLICING ARRAYS\n",
    "\n",
    "myArray_oneD = np.array([10, 20, 30, 40, 50])                   \n",
    "\n",
    "#accessing the first 4 elements in an array with a step size of 2\n",
    "myArray_oneD[0:4:2]                            "
   ]
  },
  {
   "cell_type": "code",
   "execution_count": 102,
   "id": "96f0066a-a6b6-4203-94b0-a99b1097f74a",
   "metadata": {},
   "outputs": [
    {
     "data": {
      "text/plain": [
       "array([6, 7, 8, 9])"
      ]
     },
     "execution_count": 102,
     "metadata": {},
     "output_type": "execute_result"
    }
   ],
   "source": [
    "#SLICING ARRAYS\n",
    "\n",
    "myArray_twoD = np.array([[1, 2, 3, 4, 5], [6, 7, 8, 9, 10]])                    \n",
    "\n",
    "#accessing the first 4 elements in an array \n",
    "myArray_twoD[1,0:4]                                     \n",
    "\n",
    "#array index: 1 is the second array\n",
    "#start index: 0 is the 1st element #end index: 4 is the 4th element of the second array"
   ]
  },
  {
   "cell_type": "code",
   "execution_count": 106,
   "id": "b31b6869-02ea-48ec-8dbc-b71f22974e59",
   "metadata": {},
   "outputs": [
    {
     "data": {
      "text/plain": [
       "array([6, 8])"
      ]
     },
     "execution_count": 106,
     "metadata": {},
     "output_type": "execute_result"
    }
   ],
   "source": [
    "#SLICING ARRAYS\n",
    "\n",
    "myArray_twoD = np.array([[1, 2, 3, 4, 5], [6, 7, 8, 9, 10]])                    \n",
    "\n",
    "#accessing the first 4 elements in an array with a step size of 2\n",
    "myArray_twoD[1,0:4:2]                                     \n",
    "\n",
    "#array index: 1 is the second array\n",
    "#start index: 0 is the 1st element #end index: 4 is the 4th element of the second array"
   ]
  },
  {
   "cell_type": "markdown",
   "id": "10cac31e-8988-4e21-aea2-a3113f8cfb78",
   "metadata": {},
   "source": [
    "#### Copying and Viewing Arrays"
   ]
  },
  {
   "cell_type": "code",
   "execution_count": 122,
   "id": "9692fb8a-43ea-426b-85cb-41a2f1de0b0f",
   "metadata": {},
   "outputs": [
    {
     "name": "stdout",
     "output_type": "stream",
     "text": [
      "[1 2 3 4 5]\n"
     ]
    }
   ],
   "source": [
    "#COPYING ARRAYS\n",
    "\n",
    "#create an array\n",
    "\n",
    "originalArray = np.array([1, 2, 3, 4, 5])\n",
    "\n",
    "#to copy\n",
    "copiedArray = originalArray.copy()\n",
    "print(copiedArray)                                               #changes made in the original array does not affect the copied array"
   ]
  },
  {
   "cell_type": "code",
   "execution_count": 124,
   "id": "06e68e9d-81d2-4870-aafc-78bc789d4a3a",
   "metadata": {},
   "outputs": [
    {
     "name": "stdout",
     "output_type": "stream",
     "text": [
      "[1 2 3 4 5]\n"
     ]
    }
   ],
   "source": [
    "#VIEWING ARRAYS\n",
    "\n",
    "#create an array\n",
    "\n",
    "originalArray = np.array([1, 2, 3, 4, 5])\n",
    "\n",
    "#to view\n",
    "viewedArray = originalArray.view()\n",
    "print(viewedArray)                                             #changes made in the viewed array does affect the original array"
   ]
  },
  {
   "cell_type": "markdown",
   "id": "77ea81b3-7d64-4260-9814-2d0a854963de",
   "metadata": {},
   "source": [
    "#### Shape of an Array and Reshaping Arrays"
   ]
  },
  {
   "cell_type": "code",
   "execution_count": 147,
   "id": "9374702a-37b8-418c-8439-24e11e6d905d",
   "metadata": {},
   "outputs": [
    {
     "name": "stdout",
     "output_type": "stream",
     "text": [
      "(5,)\n"
     ]
    }
   ],
   "source": [
    "#SHAPE OF AN ARRAY\n",
    "\n",
    "#check the shape\n",
    "mArray_1D = np.array([10, 20, 30, 40, 50])\n",
    "print(mArray_1D.shape)"
   ]
  },
  {
   "cell_type": "code",
   "execution_count": 142,
   "id": "59e190d7-e4ea-4c43-9cd1-f29748c6f639",
   "metadata": {},
   "outputs": [
    {
     "name": "stdout",
     "output_type": "stream",
     "text": [
      "(3, 5)\n"
     ]
    }
   ],
   "source": [
    "#SHAPE OF AN ARRAY\n",
    "\n",
    "#check the shape\n",
    "myArray_2D = np.array([[1, 2, 3, 4, 5], [6, 7, 8, 9, 10], [12, 13, 14, 15, 16]]) \n",
    "print(myArray_2D.shape)"
   ]
  },
  {
   "cell_type": "code",
   "execution_count": null,
   "id": "cb71f1dd-4e1d-43e6-8635-7f27a04bb141",
   "metadata": {},
   "outputs": [],
   "source": [
    "#SHAPE OF AN ARRAY\n",
    "\n",
    "#NB:checking the shape of an inhomogeneous array = Error message\n",
    "\n",
    "#myArray_ihD = np.array([[1, 2, 3], [6, 7, 8, 9], [12, 13, 14, 15, 16]]) \n",
    "#print(myArray_ihD.shape)\n",
    "\n",
    "#this returns an error message because its inhomogeneous"
   ]
  },
  {
   "cell_type": "code",
   "execution_count": 153,
   "id": "1f3d891a-1f88-4367-b242-f289c5048650",
   "metadata": {},
   "outputs": [
    {
     "name": "stdout",
     "output_type": "stream",
     "text": [
      "[ 10  20  30  40  50  60  70  80  90 100]\n",
      "(10,)\n",
      "\n",
      "[[ 10  20  30  40  50]\n",
      " [ 60  70  80  90 100]]\n",
      "\n",
      "(2, 5)\n"
     ]
    }
   ],
   "source": [
    "#RESHAPING AN ARRAY\n",
    "\n",
    "#reshape such that the outermost dimension will have two arrays, each containing five elements.\n",
    "\n",
    "m_Array = np.array([10, 20, 30, 40, 50, 60, 70, 80, 90, 100])\n",
    "print(m_Array)\n",
    "print(m_Array.shape)\n",
    "print()\n",
    "\n",
    "#Dammy: similar to converting 1D to 2D\n",
    "newm_Array = m_Array.reshape(2,5) \n",
    "print(newm_Array)\n",
    "print()\n",
    "print(newm_Array.shape)"
   ]
  },
  {
   "cell_type": "code",
   "execution_count": 155,
   "id": "07480d00-cab0-4342-afa0-3c39cc2a2927",
   "metadata": {},
   "outputs": [
    {
     "name": "stdout",
     "output_type": "stream",
     "text": [
      "[ 10  20  30  40  50  60  70  80  90 100 110 120]\n",
      "(12,)\n",
      "\n",
      "[[[ 10  20]\n",
      "  [ 30  40]\n",
      "  [ 50  60]]\n",
      "\n",
      " [[ 70  80]\n",
      "  [ 90 100]\n",
      "  [110 120]]]\n",
      "\n",
      "(2, 3, 2)\n"
     ]
    }
   ],
   "source": [
    "#RESHAPING AN ARRAY\n",
    "\n",
    "#reshape such that the outermost dimension will have TWO arrays that would hold THREE arrays, each containing 2 elements.\n",
    "\n",
    "m_Array = np.array([10, 20, 30, 40, 50, 60, 70, 80, 90, 100, 110, 120])\n",
    "print(m_Array)\n",
    "print(m_Array.shape)\n",
    "print()\n",
    "\n",
    "#Dammy: similar to converting 1D to 3D\n",
    "newm_Array = m_Array.reshape(2, 3, 2) \n",
    "print(newm_Array)\n",
    "print()\n",
    "print(newm_Array.shape)\n",
    "\n",
    "#array index: 2 is the array, 3 is the number of 1D array in each; 2 is the number of element per 1D array"
   ]
  },
  {
   "cell_type": "markdown",
   "id": "1b060b61-70bc-4841-a245-8d882f58f01e",
   "metadata": {},
   "source": [
    "#### Basic Operations in NumPy Arrays"
   ]
  },
  {
   "cell_type": "code",
   "execution_count": 159,
   "id": "59054edc-d8da-4c4c-a169-afc6c28340ba",
   "metadata": {},
   "outputs": [
    {
     "name": "stdout",
     "output_type": "stream",
     "text": [
      "[1, 2, 3, 4, 5, 6, 7, 8, 9]\n"
     ]
    }
   ],
   "source": [
    "#recall in list\n",
    "#you can generate a range\n",
    "\n",
    "print(list(range(1, 10)))"
   ]
  },
  {
   "cell_type": "code",
   "execution_count": 163,
   "id": "1ef27240-e5da-404f-9ac1-9243375ec8c1",
   "metadata": {},
   "outputs": [
    {
     "name": "stdout",
     "output_type": "stream",
     "text": [
      "[0 2 4 6 8]\n",
      "(5,)\n"
     ]
    }
   ],
   "source": [
    "#GENERATING A RANGE\n",
    "\n",
    "#you can generate a range using: ARANGE function\n",
    "#Syntax: rangeArray = np.array(start, stop, step)\n",
    "\n",
    "m_Array = np.arange(0, 10, 2)\n",
    "print(m_Array)\n",
    "print(m_Array.shape)"
   ]
  },
  {
   "cell_type": "code",
   "execution_count": 171,
   "id": "1d64be2d-2c9d-44d0-a14e-b85c750a87db",
   "metadata": {},
   "outputs": [
    {
     "name": "stdout",
     "output_type": "stream",
     "text": [
      "[101 102 103 104]\n",
      "(4,)\n"
     ]
    }
   ],
   "source": [
    "#GENERATING A RANGE\n",
    "\n",
    "#you can generate a range using: ARANGE function\n",
    "#Syntax: rangeArray = np.array(start, stop, step)\n",
    "\n",
    "m_Array = np.arange(101, 105, 1)\n",
    "print(m_Array)\n",
    "print(m_Array.shape)"
   ]
  },
  {
   "cell_type": "code",
   "execution_count": 175,
   "id": "48dda81e-1892-4b19-b039-f603437bda31",
   "metadata": {},
   "outputs": [
    {
     "name": "stdout",
     "output_type": "stream",
     "text": [
      "[15 30 45 60]\n"
     ]
    }
   ],
   "source": [
    "#BASIC MATHEMATICAL OPERATIONS\n",
    "\n",
    "#Addition\n",
    "\n",
    "a = np.array([10, 20, 30, 40])\n",
    "b = np.array([5, 10, 15, 20])\n",
    "\n",
    "\n",
    "print(a + b)"
   ]
  },
  {
   "cell_type": "code",
   "execution_count": 181,
   "id": "468a7e51-0843-4c96-92c4-c3720698ee0d",
   "metadata": {},
   "outputs": [
    {
     "name": "stdout",
     "output_type": "stream",
     "text": [
      "[ 5 10 15 20]\n"
     ]
    }
   ],
   "source": [
    "#BASIC MATHEMATICAL OPERATIONS\n",
    "\n",
    "#Subtraction\n",
    "\n",
    "print(a - b)"
   ]
  },
  {
   "cell_type": "code",
   "execution_count": 183,
   "id": "b80cedad-940f-4698-8533-d616741b2ab0",
   "metadata": {},
   "outputs": [
    {
     "name": "stdout",
     "output_type": "stream",
     "text": [
      "[ 50 200 450 800]\n"
     ]
    }
   ],
   "source": [
    "#BASIC MATHEMATICAL OPERATIONS\n",
    "\n",
    "#Multiplication\n",
    "\n",
    "print(a * b)"
   ]
  },
  {
   "cell_type": "code",
   "execution_count": 185,
   "id": "41413719-9429-4939-a0d6-7b9fb36ad6b8",
   "metadata": {},
   "outputs": [
    {
     "name": "stdout",
     "output_type": "stream",
     "text": [
      "[2. 2. 2. 2.]\n"
     ]
    }
   ],
   "source": [
    "#BASIC MATHEMATICAL OPERATIONS\n",
    "\n",
    "#Division\n",
    "\n",
    "print(a / b)"
   ]
  },
  {
   "cell_type": "code",
   "execution_count": 187,
   "id": "30555c67-c754-42c4-b5e3-d9d365bc68d5",
   "metadata": {},
   "outputs": [
    {
     "name": "stdout",
     "output_type": "stream",
     "text": [
      "[0 0 0 0]\n"
     ]
    }
   ],
   "source": [
    "#BASIC MATHEMATICAL OPERATIONS\n",
    "\n",
    "#Modulus\n",
    "\n",
    "print(a % b)"
   ]
  },
  {
   "cell_type": "code",
   "execution_count": 191,
   "id": "e9cad930-b34e-4031-9092-7ffdb1c714b7",
   "metadata": {},
   "outputs": [
    {
     "name": "stdout",
     "output_type": "stream",
     "text": [
      "[10 20 30 40]\n",
      "\n",
      "[20 40 60 80]\n"
     ]
    }
   ],
   "source": [
    "#BASIC MATHEMATICAL OPERATIONS\n",
    "\n",
    "#Multiply all the elements in an array by a number\n",
    "\n",
    "a = np.array([10, 20, 30, 40])\n",
    "print(a)\n",
    "print()\n",
    "print(a * 2)"
   ]
  },
  {
   "cell_type": "code",
   "execution_count": 193,
   "id": "b58e8091-784b-4016-95cd-24a4f7d74b4c",
   "metadata": {},
   "outputs": [
    {
     "name": "stdout",
     "output_type": "stream",
     "text": [
      "[10 20 30 40]\n",
      "\n",
      "[ 100  400  900 1600]\n"
     ]
    }
   ],
   "source": [
    "#BASIC MATHEMATICAL OPERATIONS\n",
    "\n",
    "#square all the elements in an array by a number\n",
    "\n",
    "a = np.array([10, 20, 30, 40])\n",
    "print(a)\n",
    "print()\n",
    "print(a ** 2)"
   ]
  },
  {
   "cell_type": "code",
   "execution_count": 195,
   "id": "29dbc9d9-d8e5-4e6b-bda4-8bd235fabb6e",
   "metadata": {},
   "outputs": [
    {
     "name": "stdout",
     "output_type": "stream",
     "text": [
      "[10 20 30 40]\n",
      "\n",
      "[3.16227766 4.47213595 5.47722558 6.32455532]\n"
     ]
    }
   ],
   "source": [
    "#BASIC MATHEMATICAL OPERATIONS\n",
    "\n",
    "#square root of an array\n",
    "\n",
    "a = np.array([10, 20, 30, 40])\n",
    "print(a)\n",
    "print()\n",
    "print(np.sqrt(a))"
   ]
  },
  {
   "cell_type": "markdown",
   "id": "89300829-b599-4fba-8da1-060caee4231f",
   "metadata": {},
   "source": [
    "#### Data Analytics Operations in NumPy Arrays"
   ]
  },
  {
   "cell_type": "code",
   "execution_count": 204,
   "id": "2c7dea51-8de4-4205-8fea-531330ea3ab2",
   "metadata": {},
   "outputs": [],
   "source": [
    "#Create an Array\n",
    "\n",
    "m_1DArray = np.array([10, 20, 30, 40])\n",
    "m_2DArray = np.array([[4, 8, 12, 16], [2, 4, 6, 8]])"
   ]
  },
  {
   "cell_type": "code",
   "execution_count": 206,
   "id": "e90b6ad6-9584-4fe0-9451-01e05f59ad27",
   "metadata": {},
   "outputs": [
    {
     "name": "stdout",
     "output_type": "stream",
     "text": [
      "100\n"
     ]
    }
   ],
   "source": [
    "#SUMMATIONS\n",
    "#in 1D\n",
    "\n",
    "print(sum(m_1DArray))                                             #sums all elements in the 1D array to give a number"
   ]
  },
  {
   "cell_type": "code",
   "execution_count": 208,
   "id": "d252c734-6063-4838-9b5e-4525bade33d0",
   "metadata": {},
   "outputs": [
    {
     "name": "stdout",
     "output_type": "stream",
     "text": [
      "[ 6 12 18 24]\n"
     ]
    }
   ],
   "source": [
    "#SUMMATIONS\n",
    "#in 2D\n",
    "\n",
    "print(sum(m_2DArray))                                             #adds the two 1D arrays in the 2D array to give an array"
   ]
  },
  {
   "cell_type": "code",
   "execution_count": 212,
   "id": "fbb799be-c848-410d-8c20-fae5a0a28c27",
   "metadata": {},
   "outputs": [
    {
     "name": "stdout",
     "output_type": "stream",
     "text": [
      "100\n"
     ]
    }
   ],
   "source": [
    "#SUMMATIONS\n",
    "\n",
    "#using SUM function\n",
    "#in 1D\n",
    "\n",
    "print(m_1DArray.sum())                                             #gives a number"
   ]
  },
  {
   "cell_type": "code",
   "execution_count": 214,
   "id": "65af7a97-da33-40df-9337-ebcfca6d0c76",
   "metadata": {},
   "outputs": [
    {
     "name": "stdout",
     "output_type": "stream",
     "text": [
      "60\n"
     ]
    }
   ],
   "source": [
    "#SUMMATIONS\n",
    "\n",
    "#using SUM function\n",
    "#in 2D\n",
    "\n",
    "print(m_2DArray.sum())                                             #sums all elements in the 2D array to give a number"
   ]
  },
  {
   "cell_type": "code",
   "execution_count": 218,
   "id": "1f97b61b-3bc8-4fb3-8178-375747b73c35",
   "metadata": {},
   "outputs": [
    {
     "name": "stdout",
     "output_type": "stream",
     "text": [
      "10\n",
      "\n",
      "2\n"
     ]
    }
   ],
   "source": [
    "#MINIMUM\n",
    "\n",
    "#in 1D\n",
    "print(m_1DArray.min())\n",
    "\n",
    "print()\n",
    "\n",
    "#in 2D\n",
    "print(m_2DArray.min())                                            "
   ]
  },
  {
   "cell_type": "code",
   "execution_count": 220,
   "id": "10219a57-73af-4ace-845e-1d350485abb1",
   "metadata": {},
   "outputs": [
    {
     "name": "stdout",
     "output_type": "stream",
     "text": [
      "40\n",
      "\n",
      "16\n"
     ]
    }
   ],
   "source": [
    "#MAXIMUM\n",
    "\n",
    "#in 1D\n",
    "print(m_1DArray.max())\n",
    "\n",
    "print()\n",
    "\n",
    "#in 2D\n",
    "print(m_2DArray.max())  "
   ]
  },
  {
   "cell_type": "code",
   "execution_count": 232,
   "id": "47d2d8f5-61c9-4205-93ee-923871058cf4",
   "metadata": {},
   "outputs": [
    {
     "name": "stdout",
     "output_type": "stream",
     "text": [
      "[[ 4  8 12 16]\n",
      " [ 2  4  6  8]\n",
      " [ 5 10 15 20]]\n",
      "\n",
      "[40 20 50]\n",
      "\n",
      "[11 22 33 44]\n"
     ]
    }
   ],
   "source": [
    "#SUMMATION across rows and columns in arrays\n",
    "\n",
    "#in 2D\n",
    "\n",
    "m_2DArray = np.array([[4, 8, 12, 16], [2, 4, 6, 8], [5, 10, 15, 20]])\n",
    "\n",
    "print(m_2DArray) \n",
    "print()\n",
    "\n",
    "#to sum across rows\n",
    "print(m_2DArray.sum(axis = 1))\n",
    "print()\n",
    "\n",
    "#to sum across columns\n",
    "print(m_2DArray.sum(axis = 0))"
   ]
  },
  {
   "cell_type": "code",
   "execution_count": 234,
   "id": "80dfd07b-1f52-48ed-b98a-c2c6147c1893",
   "metadata": {},
   "outputs": [
    {
     "name": "stdout",
     "output_type": "stream",
     "text": [
      "[[ 4  8 12 16]\n",
      " [ 2  4  6  8]\n",
      " [ 5 10 15 20]]\n",
      "\n",
      "[10.   5.  12.5]\n",
      "\n",
      "[ 3.66666667  7.33333333 11.         14.66666667]\n"
     ]
    }
   ],
   "source": [
    "#MEAN across rows and columns in arrays\n",
    "\n",
    "#in 2D\n",
    "\n",
    "m_2DArray = np.array([[4, 8, 12, 16], [2, 4, 6, 8], [5, 10, 15, 20]])\n",
    "\n",
    "print(m_2DArray) \n",
    "print()\n",
    "\n",
    "#to find mean across rows\n",
    "print(m_2DArray.mean(axis = 1))\n",
    "print()\n",
    "\n",
    "#to find mean across columns\n",
    "print(m_2DArray.mean(axis = 0))"
   ]
  },
  {
   "attachments": {},
   "cell_type": "markdown",
   "id": "5c126d1b-0160-4fde-9b26-fbde68094cad",
   "metadata": {},
   "source": [
    "#### Project: Generate Random Numbers in a NumPy Array\n",
    "##### Description - In this task, students will create a NumPy array filled with random numbers. They will be required to specify the size of the array and set the range for the random values.9:'D'"
   ]
  },
  {
   "cell_type": "code",
   "execution_count": 304,
   "id": "51a5651b-21a0-4016-9790-7c4079c1bbb3",
   "metadata": {},
   "outputs": [
    {
     "name": "stdin",
     "output_type": "stream",
     "text": [
      "Enter the desired number of rows for the array:  4\n"
     ]
    },
    {
     "name": "stdout",
     "output_type": "stream",
     "text": [
      "\n"
     ]
    },
    {
     "name": "stdin",
     "output_type": "stream",
     "text": [
      "Enter the desired number of columns for the array:  6\n"
     ]
    },
    {
     "name": "stdout",
     "output_type": "stream",
     "text": [
      "\n"
     ]
    },
    {
     "name": "stdin",
     "output_type": "stream",
     "text": [
      "Enter a desired minimum value:  40\n"
     ]
    },
    {
     "name": "stdout",
     "output_type": "stream",
     "text": [
      "\n"
     ]
    },
    {
     "name": "stdin",
     "output_type": "stream",
     "text": [
      "Enter a desired maximum value:  100\n"
     ]
    },
    {
     "name": "stdout",
     "output_type": "stream",
     "text": [
      "\n",
      "\n",
      "The randomly generated numbers in a NumPy:\n",
      " [[60 93 55 44 84 63]\n",
      " [61 40 47 51 81 95]\n",
      " [55 99 94 80 49 66]\n",
      " [42 62 80 94 49 70]]\n",
      "\n",
      "(4, 6)\n",
      "\n",
      "2\n",
      "\n",
      "Well done! Dami\n"
     ]
    }
   ],
   "source": [
    "#Import the necessary library\n",
    "import numpy as np\n",
    "\n",
    "#Prompt the user to enter the number of rows for the array\n",
    "n_rows = int(input(\"Enter the desired number of rows for the array: \"))\n",
    "print()\n",
    "\n",
    "#Prompt the user to enter the number of columns for the array            \n",
    "n_columns = int(input(\"Enter the desired number of columns for the array: \"))\n",
    "print()\n",
    "\n",
    "#Prompt the user to enter the minimum value for random numbers            \n",
    "min_value = int(input(\"Enter a desired minimum value: \"))\n",
    "print()\n",
    "\n",
    "#Prompt the user to enter the maximum value for random numbers            \n",
    "max_value = int(input(\"Enter a desired maximum value: \"))\n",
    "print()\n",
    "\n",
    "#Generate a NumPy array with dimensions (n_rows x n_columns) and populate it with random values between min_value and max_value\n",
    "def gen_randArray(n_rows, n_columns, min_value, max_value):\n",
    "    #Numpy random number syntax: np.random.randint(start, stop, size) \n",
    "    randArray = np.random.randint (min_value, max_value + 1, size = (n_rows, n_columns))\n",
    "    return randArray\n",
    "print()\n",
    "\n",
    "#Print the generated array to the console\n",
    "my_randArray = gen_randArray(n_rows, n_columns, min_value, max_value)\n",
    "print(\"The randomly generated numbers in a NumPy:\\n\", my_randArray)\n",
    "print()\n",
    "\n",
    "print(my_randArray.shape)\n",
    "print()\n",
    "\n",
    "print(my_randArray.ndim)\n",
    "print()\n",
    "\n",
    "print(\"Well done! Dami\")"
   ]
  }
 ],
 "metadata": {
  "kernelspec": {
   "display_name": "Python 3 (ipykernel)",
   "language": "python",
   "name": "python3"
  },
  "language_info": {
   "codemirror_mode": {
    "name": "ipython",
    "version": 3
   },
   "file_extension": ".py",
   "mimetype": "text/x-python",
   "name": "python",
   "nbconvert_exporter": "python",
   "pygments_lexer": "ipython3",
   "version": "3.11.5"
  }
 },
 "nbformat": 4,
 "nbformat_minor": 5
}
